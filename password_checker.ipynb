{
 "cells": [
  {
   "cell_type": "code",
   "execution_count": 1,
   "id": "2966a4a7-4ba4-4f3a-af89-3c73e006f57f",
   "metadata": {},
   "outputs": [
    {
     "name": "stdin",
     "output_type": "stream",
     "text": [
      "Enter a password to check:  monkey\n"
     ]
    },
    {
     "name": "stdout",
     "output_type": "stream",
     "text": [
      "⚠️ This password is found in the common password list!\n"
     ]
    }
   ],
   "source": [
    "def load_common_passwords(file_path):\n",
    "    with open(file_path, 'r') as file:\n",
    "        common_passwords = [line.strip() for line in file]\n",
    "    return common_passwords\n",
    "\n",
    "def check_in_common_list(password, common_passwords):\n",
    "    if password in common_passwords:\n",
    "        print(\"⚠️ This password is found in the common password list!\")\n",
    "    else:\n",
    "        print(\"✅ This password is not in the common list.\")\n",
    "\n",
    "# Example usage\n",
    "file_path = \"common_passwords.txt\"  # Make sure this file exists\n",
    "password = input(\"Enter a password to check: \")\n",
    "\n",
    "common_passwords = load_common_passwords(file_path)\n",
    "check_in_common_list(password, common_passwords)"
   ]
  },
  {
   "cell_type": "code",
   "execution_count": null,
   "id": "0f545c48-b521-46b3-b0f2-184104eb016a",
   "metadata": {},
   "outputs": [],
   "source": []
  }
 ],
 "metadata": {
  "kernelspec": {
   "display_name": "Python [conda env:base] *",
   "language": "python",
   "name": "conda-base-py"
  },
  "language_info": {
   "codemirror_mode": {
    "name": "ipython",
    "version": 3
   },
   "file_extension": ".py",
   "mimetype": "text/x-python",
   "name": "python",
   "nbconvert_exporter": "python",
   "pygments_lexer": "ipython3",
   "version": "3.12.7"
  }
 },
 "nbformat": 4,
 "nbformat_minor": 5
}
